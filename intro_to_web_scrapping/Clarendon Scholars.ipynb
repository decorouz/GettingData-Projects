{
 "cells": [
  {
   "cell_type": "markdown",
   "id": "bb961a38",
   "metadata": {},
   "source": [
    "Here is an outline of the project\n",
    "1. Why Clarendon Analysis\n",
    "   * About the Clarendon\n",
    "   * Define Project Motivations\n",
    "   * Define Project Goals.\n",
    "\n",
    "\n",
    "2. Get the Data.\n",
    "    * Scrape the data from `https://www.ox.ac.uk/clarendon/scholar-class-lists/scholars-2020-21` \n",
    "    * Save the data into a data frame\n",
    "    \n",
    "    \n",
    "    \n",
    "3. Analysis of the data\n",
    "   * Determine the country with the highest scholars\n",
    "   * Determine the number of African Scholars\n",
    "   * Determine the number of Nigerian Scholars\n",
    "   * College with the highest number of Scholars\n",
    "   * Plot a visual of Scholars and courses\n",
    "   "
   ]
  },
  {
   "cell_type": "markdown",
   "id": "68010e21",
   "metadata": {},
   "source": [
    "# 1. Why Clarendon Analysis\n",
    "\n",
    "After few years of graduation from undergraduates studies, I have continually searched for scholarships and funding opportunities to further my studies. Never heard of this particular one. It was posted on linkedin by a third party connect on Linkedin. It piqued my curiosity. I did some digging on their website, found some helpful information and  the list of previous scholars. I became even more curious to learn the number of Nigerias or Africans that have enjoyed the scholarship since it began. A good opportunity to apply my programming skills to find answers to all my curiosity. Thus the need for this project. \n",
    "\n",
    "\n",
    "Clarendon not only offers over 150 new, fully-funded scholarships each year to assist outstanding graduate scholars, but offers the opportunity to join one of the most active, highly international, and multidisciplinary communities at Oxford.\n",
    "\n",
    "Originally established to support Overseas students, the Clarendon Fund first welcomed scholars to Oxford in 2001. The scheme was expanded in 2012 to include students from the UK and EU, therefore providing funding for all fee statuses. Throughout this period, the Fund’s aim has remained unchanged; to assist academically outstanding graduate students through their studies at the University of Oxford."
   ]
  },
  {
   "cell_type": "markdown",
   "id": "cb4ad58d",
   "metadata": {},
   "source": [
    "# 2. Getting the Data\n",
    "You can find the data used from this analysis [here](https://www.ox.ac.uk/clarendon/scholar-class-lists/scholars-2020-21)"
   ]
  },
  {
   "cell_type": "code",
   "execution_count": 17,
   "id": "268ddebf",
   "metadata": {},
   "outputs": [],
   "source": [
    "import pandas as pd\n",
    "import numpy as np\n",
    "import requests\n",
    "headers = {\n",
    "    \"User-Agent\": \"Mozilla/5.0 (Windows NT 6.1) AppleWebKit/537.36 (KHTML, like Gecko) Chrome/41.0.2228.0 Safari/537.36\"}\n",
    "\n",
    "from bs4 import BeautifulSoup"
   ]
  },
  {
   "cell_type": "code",
   "execution_count": 18,
   "id": "42ee2ef7",
   "metadata": {},
   "outputs": [],
   "source": [
    "url = \"https://www.ox.ac.uk/clarendon/scholar-class-lists\""
   ]
  },
  {
   "cell_type": "code",
   "execution_count": 19,
   "id": "dfbbb50d",
   "metadata": {},
   "outputs": [],
   "source": [
    "html_doc = requests.get(url, headers=headers).text\n",
    "soup = BeautifulSoup(html_doc, \"html5lib\")\n"
   ]
  },
  {
   "cell_type": "code",
   "execution_count": 20,
   "id": "3b0b556c",
   "metadata": {},
   "outputs": [
    {
     "data": {
      "text/plain": [
       "<nav aria-label=\"Tertiary navigation\" class=\"block block-menu-block block-menu-block-10\" id=\"block-menu-block-10\">\n",
       "\n",
       "  \n",
       "        <h2 class=\"title\"><a class=\"active-trail active-trail active\" href=\"/clarendon/scholar-class-lists\">Scholar class lists</a></h2>\n",
       "    \n",
       "  <ul><li class=\"first leaf menu-mlid-8570\"><a href=\"/clarendon/scholar-class-lists/scholars-2020-21\">Scholars 2020-21</a></li>\n",
       "<li class=\"leaf menu-mlid-8573\"><a href=\"/clarendon/scholar-class-lists/scholars-2019-20\">Scholars 2019-20</a></li>\n",
       "<li class=\"leaf menu-mlid-9405\"><a href=\"/clarendon/scholar-class-lists/scholars-2018-19\">Scholars 2018-19</a></li>\n",
       "<li class=\"leaf menu-mlid-8883\"><a href=\"/clarendon/scholar-class-lists/scholars-2017-18\">Scholars 2017-18</a></li>\n",
       "<li class=\"leaf menu-mlid-5679\"><a href=\"/clarendon/scholar-class-lists/scholars-2016-17\">Scholars 2016-17</a></li>\n",
       "<li class=\"last leaf menu-mlid-8582\"><a href=\"/clarendon/scholar-class-lists/previous-scholars\">Previous scholars</a></li>\n",
       "</ul>\n",
       "\n",
       "  \n",
       "\n",
       "\n",
       "\n",
       "  \n",
       "</nav>"
      ]
     },
     "execution_count": 20,
     "metadata": {},
     "output_type": "execute_result"
    }
   ],
   "source": [
    "# Get the all page content\n",
    "page_content = soup.find(\"nav\", id=\"block-menu-block-10\")\n",
    "page_content\n"
   ]
  },
  {
   "cell_type": "code",
   "execution_count": 21,
   "id": "440539dd",
   "metadata": {},
   "outputs": [
    {
     "data": {
      "text/plain": [
       "[<li class=\"first leaf menu-mlid-8570\"><a href=\"/clarendon/scholar-class-lists/scholars-2020-21\">Scholars 2020-21</a></li>,\n",
       " <li class=\"leaf menu-mlid-8573\"><a href=\"/clarendon/scholar-class-lists/scholars-2019-20\">Scholars 2019-20</a></li>,\n",
       " <li class=\"leaf menu-mlid-9405\"><a href=\"/clarendon/scholar-class-lists/scholars-2018-19\">Scholars 2018-19</a></li>,\n",
       " <li class=\"leaf menu-mlid-8883\"><a href=\"/clarendon/scholar-class-lists/scholars-2017-18\">Scholars 2017-18</a></li>,\n",
       " <li class=\"leaf menu-mlid-5679\"><a href=\"/clarendon/scholar-class-lists/scholars-2016-17\">Scholars 2016-17</a></li>,\n",
       " <li class=\"last leaf menu-mlid-8582\"><a href=\"/clarendon/scholar-class-lists/previous-scholars\">Previous scholars</a></li>]"
      ]
     },
     "execution_count": 21,
     "metadata": {},
     "output_type": "execute_result"
    }
   ],
   "source": [
    "# Grab the list to all the page content\n",
    "all_pages = page_text.find_all(\"li\")\n",
    "all_pages"
   ]
  },
  {
   "cell_type": "code",
   "execution_count": 26,
   "id": "26ffef08",
   "metadata": {},
   "outputs": [],
   "source": [
    "# Function that generate all the scholars from the content page\n",
    "def generate_dataframe(pages):\n",
    "    df = pd.DataFrame()\n",
    "    for i in range(len(all_pages)):\n",
    "        query = \"-\".join(all_pages[i].string.split(\" \"))\n",
    "        page_url = f\"https://www.ox.ac.uk/clarendon/scholar-class-lists/{query}\"\n",
    "\n",
    "        page = requests.get(page_url, headers=headers).text\n",
    "        doc = BeautifulSoup(page, \"html5lib\")\n",
    "\n",
    "        tables1 = doc.find_all(\"table\", class_=\"sort-table table-striping\")\n",
    "        df  = pd.read_html(str(tables1), flavor=\"bs4\")\n",
    "    return df\n",
    "    \n",
    "\n",
    "\n"
   ]
  },
  {
   "cell_type": "code",
   "execution_count": 27,
   "id": "193457fa",
   "metadata": {},
   "outputs": [],
   "source": [
    "# List of all scholars to date\n",
    "list_of_scholars = generate_dataframe(all_pages)"
   ]
  },
  {
   "cell_type": "code",
   "execution_count": 28,
   "id": "811c6d6f",
   "metadata": {},
   "outputs": [
    {
     "data": {
      "text/plain": [
       "15"
      ]
     },
     "execution_count": 28,
     "metadata": {},
     "output_type": "execute_result"
    }
   ],
   "source": [
    "len(list_of_scholars)"
   ]
  },
  {
   "cell_type": "code",
   "execution_count": 33,
   "id": "2fdfb5c2",
   "metadata": {},
   "outputs": [
    {
     "data": {
      "text/plain": [
       "612"
      ]
     },
     "execution_count": 33,
     "metadata": {},
     "output_type": "execute_result"
    }
   ],
   "source": [
    "# verify the total numbers of scholars to date\n",
    "total_scholars = sum([len(list_of_scholars[i]) for i in range(len(list_of_scholars))])\n",
    "total_scholars"
   ]
  },
  {
   "cell_type": "code",
   "execution_count": 35,
   "id": "2a2ff1fd",
   "metadata": {},
   "outputs": [
    {
     "data": {
      "text/html": [
       "<div>\n",
       "<style scoped>\n",
       "    .dataframe tbody tr th:only-of-type {\n",
       "        vertical-align: middle;\n",
       "    }\n",
       "\n",
       "    .dataframe tbody tr th {\n",
       "        vertical-align: top;\n",
       "    }\n",
       "\n",
       "    .dataframe thead th {\n",
       "        text-align: right;\n",
       "    }\n",
       "</style>\n",
       "<table border=\"1\" class=\"dataframe\">\n",
       "  <thead>\n",
       "    <tr style=\"text-align: right;\">\n",
       "      <th></th>\n",
       "      <th>Name</th>\n",
       "      <th>Country</th>\n",
       "      <th>Course</th>\n",
       "      <th>College</th>\n",
       "    </tr>\n",
       "  </thead>\n",
       "  <tbody>\n",
       "    <tr>\n",
       "      <th>0</th>\n",
       "      <td>Aayush Srivastava</td>\n",
       "      <td>India</td>\n",
       "      <td>DPhil in Geography and the Environment</td>\n",
       "      <td>Hertford College</td>\n",
       "    </tr>\n",
       "    <tr>\n",
       "      <th>1</th>\n",
       "      <td>Abhishek Raman Parajuli</td>\n",
       "      <td>Nepal</td>\n",
       "      <td>MPhil in Politics: Comparative Government</td>\n",
       "      <td>Nuffield College</td>\n",
       "    </tr>\n",
       "    <tr>\n",
       "      <th>2</th>\n",
       "      <td>Abigail D'Cruz</td>\n",
       "      <td>Australia</td>\n",
       "      <td>DPhil in Clinical Medicine</td>\n",
       "      <td>Keble College</td>\n",
       "    </tr>\n",
       "    <tr>\n",
       "      <th>3</th>\n",
       "      <td>Adam Prosinski</td>\n",
       "      <td>Poland</td>\n",
       "      <td>DPhil in Partial Differential Equations: Analy...</td>\n",
       "      <td>St John's College</td>\n",
       "    </tr>\n",
       "    <tr>\n",
       "      <th>4</th>\n",
       "      <td>Aisha Ahmad</td>\n",
       "      <td>Pakistan</td>\n",
       "      <td>MPhil in Development Studies</td>\n",
       "      <td>St Cross College</td>\n",
       "    </tr>\n",
       "  </tbody>\n",
       "</table>\n",
       "</div>"
      ],
      "text/plain": [
       "                      Name    Country  \\\n",
       "0        Aayush Srivastava      India   \n",
       "1  Abhishek Raman Parajuli      Nepal   \n",
       "2           Abigail D'Cruz  Australia   \n",
       "3           Adam Prosinski     Poland   \n",
       "4              Aisha Ahmad   Pakistan   \n",
       "\n",
       "                                              Course            College  \n",
       "0             DPhil in Geography and the Environment   Hertford College  \n",
       "1          MPhil in Politics: Comparative Government   Nuffield College  \n",
       "2                         DPhil in Clinical Medicine      Keble College  \n",
       "3  DPhil in Partial Differential Equations: Analy...  St John's College  \n",
       "4                       MPhil in Development Studies   St Cross College  "
      ]
     },
     "execution_count": 35,
     "metadata": {},
     "output_type": "execute_result"
    }
   ],
   "source": [
    "# Create scholar Dataframe for further analysis\n",
    "scholars_df = pd.concat(list_of_scholars, ignore_index=True)\n",
    "scholars_df.head()"
   ]
  },
  {
   "cell_type": "code",
   "execution_count": 40,
   "id": "596e2f20",
   "metadata": {},
   "outputs": [],
   "source": [
    "# Save the clarendon/scholar-class-lists to file\n",
    "scholars_df.to_excel(\"clarendon-scholar-class-lists.xlsx\", index=False)"
   ]
  },
  {
   "cell_type": "code",
   "execution_count": null,
   "id": "97baeb9a",
   "metadata": {},
   "outputs": [],
   "source": [
    "##"
   ]
  }
 ],
 "metadata": {
  "kernelspec": {
   "display_name": "Python 3",
   "language": "python",
   "name": "python3"
  },
  "language_info": {
   "codemirror_mode": {
    "name": "ipython",
    "version": 3
   },
   "file_extension": ".py",
   "mimetype": "text/x-python",
   "name": "python",
   "nbconvert_exporter": "python",
   "pygments_lexer": "ipython3",
   "version": "3.9.6"
  }
 },
 "nbformat": 4,
 "nbformat_minor": 5
}
