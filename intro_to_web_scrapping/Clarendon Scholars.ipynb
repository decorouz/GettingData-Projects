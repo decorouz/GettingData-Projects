{
 "cells": [
  {
   "cell_type": "markdown",
   "id": "bd121050",
   "metadata": {},
   "source": [
    "Here is an outline of the project\n",
    "1. Installed the required libraries\n",
    "2. Scrape the data from `https://www.ox.ac.uk/clarendon/scholar-class-lists/scholars-2020-21`\n",
    "3. Save the scraped data into a data frame\n",
    "4. Analysis the data\n",
    "   * Determine the country witht the highest scholars\n",
    "   * Determine the number of scholars from Africa\n",
    "   * College with the highest number of scholars\n",
    "   * Scholars and courses\n",
    "   * Plot the number of scholars againts year"
   ]
  },
  {
   "cell_type": "code",
   "execution_count": null,
   "id": "671dfba0",
   "metadata": {},
   "outputs": [],
   "source": [
    "import pandas as pd\n",
    "import numpy as np\n",
    "import requests\n",
    "headers = {\n",
    "    \"User-Agent\": \"Mozilla/5.0 (Windows NT 6.1) AppleWebKit/537.36 (KHTML, like Gecko) Chrome/41.0.2228.0 Safari/537.36\"\n",
    "}\n",
    "\n",
    "from bs4 import BeautifulSoup"
   ]
  },
  {
   "cell_type": "code",
   "execution_count": null,
   "id": "87f65d55",
   "metadata": {},
   "outputs": [],
   "source": [
    "url = \"https://www.ox.ac.uk/clarendon/scholar-class-lists/scholars-2020-21\""
   ]
  },
  {
   "cell_type": "code",
   "execution_count": null,
   "id": "984b40f1",
   "metadata": {},
   "outputs": [],
   "source": [
    "# data_frame = pd.read_html(url, flavor=\"bs4\")\n",
    "# data_frame[0]"
   ]
  },
  {
   "cell_type": "code",
   "execution_count": null,
   "id": "faa9e743",
   "metadata": {},
   "outputs": [],
   "source": [
    "doc = requests.get(url, headers=headers).text"
   ]
  },
  {
   "cell_type": "code",
   "execution_count": null,
   "id": "4432ebfd",
   "metadata": {},
   "outputs": [],
   "source": [
    "scholars = BeautifulSoup(doc, \"html5lib\")\n",
    "tables = scholars.find_all(\"table\", class_=\"sort-table table-striping\")\n",
    "pd.read_html(str(tables), flavor=\"bs4\")[0][:2]"
   ]
  },
  {
   "cell_type": "code",
   "execution_count": null,
   "id": "9cb2f08e",
   "metadata": {},
   "outputs": [],
   "source": []
  },
  {
   "cell_type": "code",
   "execution_count": null,
   "id": "82f422bc",
   "metadata": {},
   "outputs": [],
   "source": [
    "url = \"https://www.ox.ac.uk/clarendon/scholar-class-lists\""
   ]
  },
  {
   "cell_type": "code",
   "execution_count": null,
   "id": "cfc4cc16",
   "metadata": {},
   "outputs": [],
   "source": [
    "doc1 = requests.get(url, headers=headers).text\n",
    "scholars2 = BeautifulSoup(doc1, \"html5lib\")\n"
   ]
  },
  {
   "cell_type": "code",
   "execution_count": null,
   "id": "8a12ec83",
   "metadata": {},
   "outputs": [],
   "source": [
    "page_text = scholars2.find(\"nav\", id=\"block-menu-block-10\")\n",
    "page_text\n"
   ]
  },
  {
   "cell_type": "code",
   "execution_count": null,
   "id": "604e2c96",
   "metadata": {},
   "outputs": [],
   "source": [
    "# all_pages = page_text.find_all(\"a\", )\n",
    "all_pages = page_text.find_all(\"li\")"
   ]
  },
  {
   "cell_type": "code",
   "execution_count": null,
   "id": "86dbebd2",
   "metadata": {},
   "outputs": [],
   "source": [
    "df = pd.DataFrame()\n",
    "for i in range(len(all_pages)):\n",
    "    \n",
    "    query = \"-\".join(all_pages[i].string.split(\" \"))\n",
    "    page_url = f\"https://www.ox.ac.uk/clarendon/scholar-class-lists/{query}\"\n",
    "    \n",
    "    page = requests.get(page_url, headers=headers).text\n",
    "    doc = BeautifulSoup(page, \"html5lib\")\n",
    "    \n",
    "    tables1 = doc.find_all(\"table\", class_=\"sort-table table-striping\")\n",
    "    result  = pd.read_html(str(tables1), flavor=\"bs4\")\n",
    "    df = result\n"
   ]
  },
  {
   "cell_type": "code",
   "execution_count": null,
   "id": "c897593b",
   "metadata": {},
   "outputs": [],
   "source": [
    "total_scholars = sum([len(df[i]) for i in range(len(df))])\n",
    "total_scholars"
   ]
  },
  {
   "cell_type": "code",
   "execution_count": null,
   "id": "c0e209b3",
   "metadata": {},
   "outputs": [],
   "source": [
    "result = pd.concat(df, ignore_index=True)\n",
    "result"
   ]
  },
  {
   "cell_type": "code",
   "execution_count": null,
   "id": "908215e2",
   "metadata": {},
   "outputs": [],
   "source": []
  }
 ],
 "metadata": {
  "kernelspec": {
   "display_name": "Python 3",
   "language": "python",
   "name": "python3"
  },
  "language_info": {
   "codemirror_mode": {
    "name": "ipython",
    "version": 3
   },
   "file_extension": ".py",
   "mimetype": "text/x-python",
   "name": "python",
   "nbconvert_exporter": "python",
   "pygments_lexer": "ipython3",
   "version": "3.9.6"
  }
 },
 "nbformat": 4,
 "nbformat_minor": 5
}
